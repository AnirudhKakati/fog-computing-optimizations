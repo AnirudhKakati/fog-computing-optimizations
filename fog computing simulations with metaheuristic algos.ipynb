{
 "cells": [
  {
   "cell_type": "code",
   "execution_count": 39,
   "id": "27dce883",
   "metadata": {},
   "outputs": [],
   "source": [
    "import random\n",
    "import simpy\n",
    "\n",
    "class VM:\n",
    "    def __init__(self, id, cpu, ram):\n",
    "        self.id = id\n",
    "        self.cpu = cpu\n",
    "        self.ram = ram\n",
    "        self.cost = cpu / 10\n",
    "        self.available_cpu = cpu\n",
    "        self.available_ram = ram\n",
    "\n",
    "class Task:\n",
    "    def __init__(self, id, instructions, memory, deadline):\n",
    "        self.id = id\n",
    "        self.instructions = instructions\n",
    "        self.memory = memory\n",
    "        self.deadline = deadline"
   ]
  },
  {
   "cell_type": "code",
   "execution_count": 2,
   "id": "974ccd1f",
   "metadata": {},
   "outputs": [],
   "source": [
    "def round_robin_allocate(vms, tasks):\n",
    "    allocations = []\n",
    "    vm_index = 0\n",
    "    num_vms = len(vms)\n",
    "    \n",
    "    for task in tasks:\n",
    "        vm_id = vm_index % num_vms\n",
    "        allocations.append(vm_id)\n",
    "        vm_index += 1\n",
    "    \n",
    "    return allocations\n",
    "\n",
    "def rr_optimize(vms, tasks):\n",
    "    allocations = round_robin_allocate(vms, tasks)\n",
    "    return run_simulation(allocations, vms, tasks)"
   ]
  },
  {
   "cell_type": "code",
   "execution_count": 3,
   "id": "f69a7aa5",
   "metadata": {},
   "outputs": [],
   "source": [
    "def sjf_allocate(vms, tasks):\n",
    "    sorted_tasks = sorted(enumerate(tasks), key=lambda x: x[1].instructions)\n",
    "    allocations = [0] * len(tasks)\n",
    "    vm_loads = [0] * len(vms)\n",
    "    \n",
    "    for task_index, task in sorted_tasks:\n",
    "        vm_id = min(range(len(vms)), key=lambda i: vm_loads[i])\n",
    "        allocations[task_index] = vm_id\n",
    "        vm_loads[vm_id] += task.instructions\n",
    "    \n",
    "    return allocations\n",
    "\n",
    "def sjf_optimize(vms, tasks):\n",
    "    allocations = sjf_allocate(vms, tasks)\n",
    "    return run_simulation(allocations, vms, tasks)"
   ]
  },
  {
   "cell_type": "code",
   "execution_count": 4,
   "id": "bc96d418",
   "metadata": {},
   "outputs": [],
   "source": [
    "def calculate_overutilization_penalty(vm_utilization, vms):\n",
    "    penalty = 0\n",
    "    for vm in vms:\n",
    "        cpu_overuse = max(0, vm_utilization[vm.id]['cpu'] - vm.cpu)\n",
    "        ram_overuse = max(0, vm_utilization[vm.id]['ram'] - vm.ram)\n",
    "        penalty += (cpu_overuse / vm.cpu + ram_overuse / vm.ram) * 1000  # Adjust multiplier as needed\n",
    "    return penalty"
   ]
  },
  {
   "cell_type": "code",
   "execution_count": 5,
   "id": "17ba59f3",
   "metadata": {},
   "outputs": [],
   "source": [
    "def flexible_allocate_tasks(vm_preferences, vms, tasks):\n",
    "    allocations = []\n",
    "    vm_utilization = {vm.id: {'cpu': 0, 'ram': 0} for vm in vms}\n",
    "    \n",
    "    for task_id, preferred_vm_id in enumerate(vm_preferences):\n",
    "        task = tasks[task_id]\n",
    "        allocated_cpu = 0\n",
    "        allocated_ram = 0\n",
    "        task_allocations = []\n",
    "\n",
    "        # Try to allocate to the preferred VM first\n",
    "        preferred_vm = vms[preferred_vm_id]\n",
    "        alloc_cpu = min(task.instructions - allocated_cpu, preferred_vm.cpu - vm_utilization[preferred_vm.id]['cpu'])\n",
    "        alloc_ram = min(task.memory - allocated_ram, preferred_vm.ram - vm_utilization[preferred_vm.id]['ram'])\n",
    "        \n",
    "        if alloc_cpu > 0 or alloc_ram > 0:\n",
    "            task_allocations.append((preferred_vm.id, alloc_cpu, alloc_ram))\n",
    "            vm_utilization[preferred_vm.id]['cpu'] += alloc_cpu\n",
    "            vm_utilization[preferred_vm.id]['ram'] += alloc_ram\n",
    "            allocated_cpu += alloc_cpu\n",
    "            allocated_ram += alloc_ram\n",
    "\n",
    "        # If task is not fully allocated, try other VMs\n",
    "        for vm in vms:\n",
    "            if allocated_cpu >= task.instructions and allocated_ram >= task.memory:\n",
    "                break\n",
    "            if vm.id == preferred_vm.id:\n",
    "                continue\n",
    "            \n",
    "            alloc_cpu = min(task.instructions - allocated_cpu, vm.cpu - vm_utilization[vm.id]['cpu'])\n",
    "            alloc_ram = min(task.memory - allocated_ram, vm.ram - vm_utilization[vm.id]['ram'])\n",
    "            \n",
    "            if alloc_cpu > 0 or alloc_ram > 0:\n",
    "                task_allocations.append((vm.id, alloc_cpu, alloc_ram))\n",
    "                vm_utilization[vm.id]['cpu'] += alloc_cpu\n",
    "                vm_utilization[vm.id]['ram'] += alloc_ram\n",
    "                allocated_cpu += alloc_cpu\n",
    "                allocated_ram += alloc_ram\n",
    "\n",
    "        allocations.append(task_allocations)\n",
    "\n",
    "    return allocations, vm_utilization"
   ]
  },
  {
   "cell_type": "code",
   "execution_count": 6,
   "id": "697c8766",
   "metadata": {},
   "outputs": [],
   "source": [
    "def run_simulation(vm_preferences, vms, tasks):\n",
    "    allocations, vm_utilization = flexible_allocate_tasks(vm_preferences, vms, tasks)\n",
    "    \n",
    "    total_cost = 0\n",
    "    total_energy = 0\n",
    "    max_execution_time = 0\n",
    "    \n",
    "    for task_id, task_allocations in enumerate(allocations):\n",
    "        task = tasks[task_id]\n",
    "        task_execution_time = 0\n",
    "        for vm_id, alloc_cpu, alloc_ram in task_allocations:\n",
    "            vm = next(vm for vm in vms if vm.id == vm_id)\n",
    "            execution_time = alloc_cpu / vm.cpu * 1000  # ms\n",
    "            task_execution_time += execution_time\n",
    "            \n",
    "            # Calculate cost based on resource usage and time\n",
    "            cost = vm.cost * (execution_time / 1000) * (alloc_cpu / vm.cpu)\n",
    "            total_cost += cost\n",
    "            \n",
    "            # Calculate energy based on CPU utilization and time\n",
    "            energy = vm.cpu * 0.001 * (alloc_cpu / vm.cpu) * (execution_time / 1000)\n",
    "            total_energy += energy\n",
    "        \n",
    "        max_execution_time = max(max_execution_time, task_execution_time)\n",
    "    \n",
    "    overutilization_penalty = calculate_overutilization_penalty(vm_utilization, vms)\n",
    "    \n",
    "    return max_execution_time, total_cost, total_energy, overutilization_penalty\n",
    "\n",
    "def evaluate(individual, vms, tasks):\n",
    "    return run_simulation(individual, vms, tasks)"
   ]
  },
  {
   "cell_type": "code",
   "execution_count": 7,
   "id": "7c2d3dcd",
   "metadata": {},
   "outputs": [],
   "source": [
    "def check_fitness(individual):\n",
    "    makespan, cost, energy, overutilization_penalty = run_simulation(individual, vms, tasks)\n",
    "    \n",
    "    # Normalize and combine objectives\n",
    "    normalized_makespan = makespan / 1000\n",
    "    normalized_cost = cost / 100\n",
    "    normalized_energy = energy / 100\n",
    "\n",
    "    weighted_sum = (normalized_makespan * 0.4 + \n",
    "                    normalized_cost * 0.3 + \n",
    "                    normalized_energy * 0.2 + \n",
    "                    overutilization_penalty * 0.1)\n",
    "    \n",
    "    return weighted_sum, makespan, cost, energy, overutilization_penalty"
   ]
  },
  {
   "cell_type": "code",
   "execution_count": 8,
   "id": "420c127a",
   "metadata": {},
   "outputs": [],
   "source": [
    "#FWA\n",
    "def fwa_optimize(vms,tasks):\n",
    "    def generate_sparks(firework, n, amplitude, num_vms):\n",
    "        return [\n",
    "            [max(0, min(num_vms - 1, x + int(random.uniform(-amplitude, amplitude))))\n",
    "             for x in firework]\n",
    "            for _ in range(n)\n",
    "        ]\n",
    "    def fireworks_algorithm(vms, tasks, n_fireworks=5, n_sparks=30, n_iterations=40):\n",
    "        num_vms = len(vms)\n",
    "        num_tasks = len(tasks)\n",
    "\n",
    "        # Initialize fireworks\n",
    "        fireworks = [random.choices(range(num_vms), k=num_tasks) for _ in range(n_fireworks)]\n",
    "        best_solution = None\n",
    "        best_fitness = float('inf')\n",
    "\n",
    "        for _ in range(n_iterations):\n",
    "            all_solutions = fireworks.copy()\n",
    "\n",
    "            # Generate sparks\n",
    "            for firework in fireworks:\n",
    "                fitness = check_fitness(firework)[0]\n",
    "                if fitness < best_fitness:\n",
    "                    best_fitness = fitness\n",
    "                    best_solution = firework\n",
    "\n",
    "                # Calculate amplitude, ensuring it's within a reasonable range\n",
    "                amplitude = max(1, int(50 * best_fitness / fitness))\n",
    "\n",
    "                all_solutions.extend(generate_sparks(firework, n_sparks, amplitude, num_vms))\n",
    "\n",
    "            # Evaluate and select best solutions\n",
    "            all_solutions.sort(key=lambda x: check_fitness(x)[0])\n",
    "            fireworks = all_solutions[:n_fireworks]\n",
    "\n",
    "        return best_solution, best_fitness\n",
    "\n",
    "    best_solution, best_fitness = fireworks_algorithm(vms, tasks)\n",
    "    return evaluate(best_solution, vms, tasks)"
   ]
  },
  {
   "cell_type": "code",
   "execution_count": 9,
   "id": "6d8df19c",
   "metadata": {},
   "outputs": [],
   "source": [
    "#SQSA\n",
    "def sqsa_optimize(vms, tasks, n_squirrels=30, n_iterations=40):\n",
    "    squirrels = [random.choices(range(len(vms)), k=len(tasks)) for _ in range(n_squirrels)]\n",
    "    fitness = [check_fitness(s)[0] for s in squirrels]\n",
    "\n",
    "    best_idx = fitness.index(min(fitness))\n",
    "    \n",
    "    for _ in range(n_iterations):\n",
    "        for i in range(n_squirrels):\n",
    "            if i != best_idx:\n",
    "                for j in range(len(tasks)):\n",
    "                    if random.random() < 0.5:\n",
    "                        squirrels[i][j] = squirrels[best_idx][j]\n",
    "                    else:\n",
    "                        squirrels[i][j] = random.randint(0, len(vms)-1)\n",
    "        \n",
    "        fitness = [check_fitness(s)[0] for s in squirrels]\n",
    "        new_best_idx = fitness.index(min(fitness))\n",
    "        if fitness[new_best_idx] < fitness[best_idx]:\n",
    "            best_idx = new_best_idx\n",
    "\n",
    "    return evaluate(squirrels[best_idx], vms, tasks)"
   ]
  },
  {
   "cell_type": "code",
   "execution_count": 10,
   "id": "9d9c05dc",
   "metadata": {},
   "outputs": [],
   "source": [
    "# BAT\n",
    "def bat_optimize(vms, tasks, n_bats=30, n_iterations=40):\n",
    "    bats = [random.choices(range(len(vms)), k=len(tasks)) for _ in range(n_bats)]\n",
    "    velocities = [[0] * len(tasks) for _ in range(n_bats)]\n",
    "    fitness = [check_fitness(b)[0] for b in bats]\n",
    "    best_bat = bats[fitness.index(min(fitness))]\n",
    "    \n",
    "    for _ in range(n_iterations):\n",
    "        for i in range(n_bats):\n",
    "            freq = random.random()\n",
    "            for j in range(len(tasks)):\n",
    "                velocities[i][j] += (bats[i][j] - best_bat[j]) * freq\n",
    "                bats[i][j] = max(0, min(len(vms)-1, int(bats[i][j] + velocities[i][j])))\n",
    "            \n",
    "            if random.random() > 0.5:\n",
    "                bats[i] = [max(0, min(len(vms)-1, best_bat[j] + int(random.gauss(0, 1))))\n",
    "                           for j in range(len(tasks))]\n",
    "        \n",
    "        fitness = [check_fitness(b)[0] for b in bats]\n",
    "        best_idx = fitness.index(min(fitness))\n",
    "        if fitness[best_idx] < check_fitness(best_bat)[0]:\n",
    "            best_bat = bats[best_idx]\n",
    "    return evaluate(best_bat, vms, tasks)"
   ]
  },
  {
   "cell_type": "code",
   "execution_count": 11,
   "id": "b44a2174",
   "metadata": {},
   "outputs": [],
   "source": [
    "# PSO\n",
    "def pso_optimize(vms, tasks, n_particles=30, n_iterations=40):\n",
    "    particles = [random.choices(range(len(vms)), k=len(tasks)) for _ in range(n_particles)]\n",
    "    velocities = [[0] * len(tasks) for _ in range(n_particles)]\n",
    "    personal_best = particles.copy()\n",
    "    fitness = [check_fitness(p)[0] for p in particles]\n",
    "    global_best = particles[fitness.index(min(fitness))]\n",
    "    \n",
    "    for _ in range(n_iterations):\n",
    "        for i in range(n_particles):\n",
    "            for j in range(len(tasks)):\n",
    "                r1, r2 = random.random(), random.random()\n",
    "                velocities[i][j] = (0.5 * velocities[i][j] + \n",
    "                                    1 * r1 * (personal_best[i][j] - particles[i][j]) +\n",
    "                                    2 * r2 * (global_best[j] - particles[i][j]))\n",
    "                particles[i][j] = max(0, min(len(vms)-1, int(particles[i][j] + velocities[i][j])))\n",
    "            \n",
    "            current_fitness = check_fitness(particles[i])[0]\n",
    "\n",
    "            if current_fitness < check_fitness(personal_best[i])[0]:\n",
    "                personal_best[i] = particles[i]\n",
    "                if current_fitness < check_fitness(global_best)[0]:\n",
    "                    global_best = particles[i]\n",
    "\n",
    "    return evaluate(global_best, vms, tasks)"
   ]
  },
  {
   "cell_type": "code",
   "execution_count": 12,
   "id": "a5ad0fe0",
   "metadata": {},
   "outputs": [],
   "source": [
    "# BMO\n",
    "def bmo_optimize(vms, tasks, n_barnacles=30, n_iterations=40):\n",
    "    barnacles = [random.choices(range(len(vms)), k=len(tasks)) for _ in range(n_barnacles)]\n",
    "    fitness = [check_fitness(b)[0] for b in barnacles]\n",
    "    best_barnacle = barnacles[fitness.index(min(fitness))]\n",
    "    \n",
    "    for _ in range(n_iterations):\n",
    "        for i in range(n_barnacles):\n",
    "            if random.random() < 0.5:  # Pseudo-fertilization\n",
    "                partner = random.choice(barnacles)\n",
    "                barnacles[i] = [b if random.random() < 0.5 else p \n",
    "                                for b, p in zip(barnacles[i], partner)]\n",
    "            else:  # Larval development\n",
    "                barnacles[i] = [max(0, min(len(vms)-1, x + int(random.gauss(0, 1))))\n",
    "                                for x in barnacles[i]]\n",
    "        \n",
    "        fitness = [check_fitness(b)[0] for b in barnacles]\n",
    "        new_best = barnacles[fitness.index(min(fitness))]\n",
    "        if check_fitness(new_best)[0] < check_fitness(best_barnacle)[0]:\n",
    "            best_barnacle = new_best\n",
    "\n",
    "    return evaluate(best_barnacle, vms, tasks)"
   ]
  },
  {
   "cell_type": "code",
   "execution_count": 13,
   "id": "35686442",
   "metadata": {},
   "outputs": [],
   "source": [
    "#SSA\n",
    "def ssa_optimize(vms, tasks, n_sparrows=30, n_iterations=40):\n",
    "    sparrows = [random.choices(range(len(vms)), k=len(tasks)) for _ in range(n_sparrows)]\n",
    "    fitness = [check_fitness(s)[0] for s in sparrows]\n",
    "    best_sparrow = sparrows[fitness.index(min(fitness))]\n",
    "    \n",
    "    for _ in range(n_iterations):\n",
    "        for i in range(n_sparrows):\n",
    "            if i < n_sparrows // 5:  # Discoverer\n",
    "                sparrows[i] = [max(0, min(len(vms)-1, x + int(random.gauss(0, 1))))\n",
    "                               for x in sparrows[i]]\n",
    "            elif i < n_sparrows // 2:  # Joiner\n",
    "                sparrows[i] = [best_sparrow[j] if random.random() < 0.5 else sparrows[i][j]\n",
    "                               for j in range(len(tasks))]\n",
    "            else:  # Scrounger\n",
    "                sparrows[i] = [random.randint(0, len(vms)-1) if random.random() < 0.1 else sparrows[i][j]\n",
    "                               for j in range(len(tasks))]\n",
    "        \n",
    "        fitness = [check_fitness(s)[0] for s in sparrows]\n",
    "        new_best = sparrows[fitness.index(min(fitness))]\n",
    "        if check_fitness(new_best)[0] < check_fitness(best_sparrow)[0]:\n",
    "            best_sparrow = new_best\n",
    "\n",
    "    return evaluate(best_sparrow, vms, tasks)"
   ]
  },
  {
   "cell_type": "code",
   "execution_count": 25,
   "id": "a6feca27",
   "metadata": {},
   "outputs": [],
   "source": [
    "num_vms = 30\n",
    "num_tasks = 100\n",
    "vms = [VM(i, random.randint(1000, 3000), random.randint(1000, 2000)) for i in range(num_vms)]\n",
    "tasks = [Task(i, random.randint(100, 500), random.randint(100, 500), random.randint(5, 50)) for i in range(num_tasks)]"
   ]
  },
  {
   "cell_type": "code",
   "execution_count": 41,
   "id": "c40758b5",
   "metadata": {},
   "outputs": [
    {
     "data": {
      "text/plain": [
       "(436.3001745200698, 584.7653642159868, 5.847653642159868)"
      ]
     },
     "execution_count": 41,
     "metadata": {},
     "output_type": "execute_result"
    }
   ],
   "source": [
    "rr_makespan, rr_cost, rr_energy, rr_penalty = rr_optimize(vms, tasks)\n",
    "rr_makespan, rr_cost, rr_energy"
   ]
  },
  {
   "cell_type": "code",
   "execution_count": 47,
   "id": "c4ad7997",
   "metadata": {},
   "outputs": [
    {
     "data": {
      "text/plain": [
       "(395.6521739130435, 571.2980459294112, 5.712980459294113)"
      ]
     },
     "execution_count": 47,
     "metadata": {},
     "output_type": "execute_result"
    }
   ],
   "source": [
    "sjf_makespan, sjf_cost, sjf_energy, sjf_penalty = sjf_optimize(vms, tasks)\n",
    "sjf_makespan, sjf_cost, sjf_energy"
   ]
  },
  {
   "cell_type": "code",
   "execution_count": 54,
   "id": "7aeb2d46",
   "metadata": {},
   "outputs": [
    {
     "data": {
      "text/plain": [
       "(426.25745950554136, 531.882934180545, 5.31882934180545)"
      ]
     },
     "execution_count": 54,
     "metadata": {},
     "output_type": "execute_result"
    }
   ],
   "source": [
    "initial_allocation = random.choices(range(len(vms)), k=len(tasks))\n",
    "makespan, total_cost, total_energy, overutilization_penalty = run_simulation(initial_allocation, vms, tasks)\n",
    "makespan,total_cost,total_energy"
   ]
  },
  {
   "cell_type": "code",
   "execution_count": 29,
   "id": "c92eb2ec",
   "metadata": {},
   "outputs": [
    {
     "data": {
      "text/plain": [
       "(282.01970443349757, 446.8222903247335, 4.468222903247337)"
      ]
     },
     "execution_count": 29,
     "metadata": {},
     "output_type": "execute_result"
    }
   ],
   "source": [
    "fwa_makespan, fwa_cost, fwa_energy,fwa_allocation_status=fwa_optimize(vms,tasks)\n",
    "fwa_makespan,fwa_cost,fwa_energy"
   ]
  },
  {
   "cell_type": "code",
   "execution_count": 30,
   "id": "4becb6ef",
   "metadata": {},
   "outputs": [
    {
     "data": {
      "text/plain": [
       "(288.1773399014778, 481.31610674148465, 4.81316106741485)"
      ]
     },
     "execution_count": 30,
     "metadata": {},
     "output_type": "execute_result"
    }
   ],
   "source": [
    "sqsa_makespan, sqsa_cost, sqsa_energy, sqsa_allocation_status=sqsa_optimize(vms,tasks)\n",
    "sqsa_makespan, sqsa_cost, sqsa_energy"
   ]
  },
  {
   "cell_type": "code",
   "execution_count": 31,
   "id": "ec78f340",
   "metadata": {},
   "outputs": [
    {
     "data": {
      "text/plain": [
       "(282.6354679802955, 442.2459059649198, 4.422459059649201)"
      ]
     },
     "execution_count": 31,
     "metadata": {},
     "output_type": "execute_result"
    }
   ],
   "source": [
    "bat_makespan, bat_cost, bat_energy, bat_allocation_status=bat_optimize(vms,tasks)\n",
    "bat_makespan, bat_cost, bat_energy"
   ]
  },
  {
   "cell_type": "code",
   "execution_count": 36,
   "id": "0cfbd1c4",
   "metadata": {},
   "outputs": [
    {
     "data": {
      "text/plain": [
       "(375.10656436487636, 536.5051627351316, 5.365051627351319)"
      ]
     },
     "execution_count": 36,
     "metadata": {},
     "output_type": "execute_result"
    }
   ],
   "source": [
    "pso_makespan, pso_cost, pso_energy, pso_allocation_status=pso_optimize(vms,tasks)\n",
    "pso_makespan, pso_cost, pso_energy"
   ]
  },
  {
   "cell_type": "code",
   "execution_count": 37,
   "id": "629457d6",
   "metadata": {},
   "outputs": [
    {
     "data": {
      "text/plain": [
       "(348.92638036809814, 493.63900439399976, 4.936390043939995)"
      ]
     },
     "execution_count": 37,
     "metadata": {},
     "output_type": "execute_result"
    }
   ],
   "source": [
    "bmo_makespan, bmo_cost, bmo_energy, bmo_allocation_status = bmo_optimize(vms, tasks)\n",
    "bmo_makespan, bmo_cost, bmo_energy"
   ]
  },
  {
   "cell_type": "code",
   "execution_count": 38,
   "id": "b2bc0665",
   "metadata": {},
   "outputs": [
    {
     "data": {
      "text/plain": [
       "(305.6080655324512, 468.9260644841854, 4.689260644841853)"
      ]
     },
     "execution_count": 38,
     "metadata": {},
     "output_type": "execute_result"
    }
   ],
   "source": [
    "ssa_makespan, ssa_cost, ssa_energy, ssa_allocation_status = ssa_optimize(vms, tasks)\n",
    "ssa_makespan, ssa_cost, ssa_energy"
   ]
  },
  {
   "cell_type": "code",
   "execution_count": 35,
   "id": "e238c685",
   "metadata": {},
   "outputs": [
    {
     "name": "stdout",
     "output_type": "stream",
     "text": [
      "No Optimization:\n",
      "  Makespan: 400.5235602094241\n",
      "  Cost: 560.1746091485845\n",
      "  Energy: 5.601746091485844\n",
      "\n",
      "Round Robin:\n",
      "  Makespan: 436.3001745200698\n",
      "  Cost: 584.7653642159868\n",
      "  Energy: 5.847653642159868\n",
      "\n",
      "Shortest Job First:\n",
      "  Makespan: 395.6521739130435\n",
      "  Cost: 571.2980459294112\n",
      "  Energy: 5.712980459294113\n",
      "\n",
      "Fireworks Algorithm:\n",
      "  Makespan: 282.01970443349757\n",
      "  Cost: 446.8222903247335\n",
      "  Energy: 4.468222903247337\n",
      "\n",
      "Squirrel Search Algorithm:\n",
      "  Makespan: 288.1773399014778\n",
      "  Cost: 481.31610674148465\n",
      "  Energy: 4.81316106741485\n",
      "\n",
      "Bat Algorithm:\n",
      "  Makespan: 282.6354679802955\n",
      "  Cost: 442.2459059649198\n",
      "  Energy: 4.422459059649201\n",
      "\n",
      "Particle Swarm Optimizer:\n",
      "  Makespan: 399.650959860384\n",
      "  Cost: 519.5113090128201\n",
      "  Energy: 5.1951130901282045\n",
      "\n",
      "Barnacles Mating Optimizer:\n",
      "  Makespan: 333.0727130570759\n",
      "  Cost: 501.7845754092202\n",
      "  Energy: 5.0178457540922\n",
      "\n",
      "Sparrow Search Algorithm:\n",
      "  Makespan: 347.29493891797557\n",
      "  Cost: 493.536500044236\n",
      "  Energy: 4.935365000442361\n",
      "\n",
      "Best Makespan: Fireworks Algorithm\n",
      "Best Cost: Bat Algorithm\n",
      "Best Energy: Bat Algorithm\n"
     ]
    }
   ],
   "source": [
    "def compare_results(results):\n",
    "    for name, (makespan, cost, energy) in results.items():\n",
    "        print(f\"{name}:\")\n",
    "        print(f\"  Makespan: {makespan}\")\n",
    "        print(f\"  Cost: {cost}\")\n",
    "        print(f\"  Energy: {energy}\")\n",
    "        print()\n",
    "\n",
    "    best_makespan = min(results.items(), key=lambda x: x[1][0])\n",
    "    best_cost = min(results.items(), key=lambda x: x[1][1])\n",
    "    best_energy = min(results.items(), key=lambda x: x[1][2])\n",
    "\n",
    "    print(f\"Best Makespan: {best_makespan[0]}\")\n",
    "    print(f\"Best Cost: {best_cost[0]}\")\n",
    "    print(f\"Best Energy: {best_energy[0]}\")\n",
    "    \n",
    "# Collect results\n",
    "results = {\n",
    "    \"No Optimization\": (makespan, total_cost, total_energy),\n",
    "    \"Round Robin\": (rr_makespan,rr_cost,rr_energy),\n",
    "    \"Shortest Job First\": (sjf_makespan, sjf_cost, sjf_energy),\n",
    "    \"Fireworks Algorithm\": (fwa_makespan, fwa_cost, fwa_energy),\n",
    "    \"Squirrel Search Algorithm\": (sqsa_makespan,sqsa_cost,sqsa_energy),\n",
    "    \"Bat Algorithm\": (bat_makespan, bat_cost, bat_energy),\n",
    "    \"Particle Swarm Optimizer\": (pso_makespan, pso_cost, pso_energy),\n",
    "    \"Barnacles Mating Optimizer\": (bmo_makespan, bmo_cost, bmo_energy),\n",
    "    \"Sparrow Search Algorithm\": (ssa_makespan, ssa_cost, ssa_energy)\n",
    "}\n",
    "\n",
    "compare_results(results)"
   ]
  },
  {
   "cell_type": "code",
   "execution_count": null,
   "id": "e84681b2",
   "metadata": {},
   "outputs": [],
   "source": []
  },
  {
   "cell_type": "markdown",
   "id": "72ccb063",
   "metadata": {},
   "source": [
    "# Results->"
   ]
  },
  {
   "cell_type": "markdown",
   "id": "e239071a",
   "metadata": {},
   "source": [
    "vms will range from 10 to 50\n",
    "tasks will range from 40 to 120"
   ]
  },
  {
   "cell_type": "code",
   "execution_count": 76,
   "id": "d9cca722",
   "metadata": {},
   "outputs": [],
   "source": [
    "num_vms = 10\n",
    "num_tasks = 40"
   ]
  },
  {
   "cell_type": "code",
   "execution_count": 77,
   "id": "25e4288f",
   "metadata": {},
   "outputs": [],
   "source": [
    "rr_mean_makespan,rr_mean_energy,rr_mean_cost=0,0,0\n",
    "sjf_mean_makespan,sjf_mean_energy,sjf_mean_cost=0,0,0\n",
    "fwa_mean_makespan,fwa_mean_energy,fwa_mean_cost=0,0,0\n",
    "sqsa_mean_makespan,sqsa_mean_energy,sqsa_mean_cost=0,0,0\n",
    "bat_mean_makespan,bat_mean_energy,bat_mean_cost=0,0,0\n",
    "pso_mean_makespan,pso_mean_energy,pso_mean_cost=0,0,0\n",
    "bmo_mean_makespan,bmo_mean_energy,bmo_mean_cost=0,0,0\n",
    "ssa_mean_makespan,ssa_mean_energy,ssa_mean_cost=0,0,0"
   ]
  },
  {
   "cell_type": "code",
   "execution_count": 78,
   "id": "f82a0945",
   "metadata": {},
   "outputs": [
    {
     "name": "stdout",
     "output_type": "stream",
     "text": [
      "--RR-- 387.0656549366117 2.2171454456240003 221.71454456240008\n",
      "--SJF-- 391.55685786767924 2.230109462299986 223.01094622999858\n",
      "--FWA-- 265.4334050330835 1.7690862298899408 176.90862298899407\n",
      "--SQSA-- 239.0017897544 1.7520538080629584 175.20538080629586\n",
      "--BAT-- 298.9242726929921 1.8095192803668945 180.95192803668948\n",
      "--PSO-- 324.4805823930858 1.9791891272494186 197.91891272494186\n",
      "--BMO-- 271.2272906016891 1.8735041166870818 187.35041166870815\n",
      "--SSA-- 267.73295473190467 1.8212535188568097 182.125351885681\n"
     ]
    }
   ],
   "source": [
    "for _ in range(10):\n",
    "    vms = [VM(i, random.randint(1000, 3000), random.randint(1000, 2000)) for i in range(num_vms)]\n",
    "    tasks = [Task(i, random.randint(100, 500), random.randint(100, 500), random.randint(5, 50)) for i in range(num_tasks)]\n",
    "    \n",
    "    # RR\n",
    "    rr_makespan, rr_cost, rr_energy= rr_optimize(vms, tasks)[:3]\n",
    "    rr_mean_makespan+=rr_makespan\n",
    "    rr_mean_cost+=rr_cost\n",
    "    rr_mean_energy+=rr_energy\n",
    "    \n",
    "    # SJF\n",
    "    sjf_makespan, sjf_cost, sjf_energy= sjf_optimize(vms, tasks)[:3]\n",
    "    sjf_mean_makespan+=sjf_makespan\n",
    "    sjf_mean_cost+=sjf_cost\n",
    "    sjf_mean_energy+=sjf_energy\n",
    "    \n",
    "    #FWA\n",
    "    fwa_makespan, fwa_cost, fwa_energy= fwa_optimize(vms, tasks)[:3]\n",
    "    fwa_mean_makespan+=fwa_makespan\n",
    "    fwa_mean_cost+=fwa_cost\n",
    "    fwa_mean_energy+=fwa_energy\n",
    "    \n",
    "    #SQSA\n",
    "    sqsa_makespan, sqsa_cost, sqsa_energy= sqsa_optimize(vms, tasks)[:3]\n",
    "    sqsa_mean_makespan+=sqsa_makespan\n",
    "    sqsa_mean_cost+=sqsa_cost\n",
    "    sqsa_mean_energy+=sqsa_energy\n",
    "\n",
    "    #BAT\n",
    "    bat_makespan, bat_cost, bat_energy= bat_optimize(vms, tasks)[:3]\n",
    "    bat_mean_makespan+=bat_makespan\n",
    "    bat_mean_cost+=bat_cost\n",
    "    bat_mean_energy+=bat_energy\n",
    "    \n",
    "    #PSO\n",
    "    pso_makespan, pso_cost, pso_energy= pso_optimize(vms, tasks)[:3]\n",
    "    pso_mean_makespan+=pso_makespan\n",
    "    pso_mean_cost+=pso_cost\n",
    "    pso_mean_energy+=pso_energy\n",
    "\n",
    "    #BMO\n",
    "    bmo_makespan, bmo_cost, bmo_energy= bmo_optimize(vms, tasks)[:3]\n",
    "    bmo_mean_makespan+=bmo_makespan\n",
    "    bmo_mean_cost+=bmo_cost\n",
    "    bmo_mean_energy+=bmo_energy\n",
    "    \n",
    "    #SSA\n",
    "    ssa_makespan, ssa_cost, ssa_energy= ssa_optimize(vms, tasks)[:3]\n",
    "    ssa_mean_makespan+=ssa_makespan\n",
    "    ssa_mean_cost+=ssa_cost\n",
    "    ssa_mean_energy+=ssa_energy\n",
    "    \n",
    "# RR\n",
    "rr_mean_makespan/=10\n",
    "rr_mean_energy/=10\n",
    "rr_mean_cost/=10\n",
    "print(\"--RR--\",rr_mean_makespan,rr_mean_energy,rr_mean_cost)\n",
    "\n",
    "#SJF\n",
    "sjf_mean_makespan/=10\n",
    "sjf_mean_energy/=10\n",
    "sjf_mean_cost/=10\n",
    "print(\"--SJF--\",sjf_mean_makespan,sjf_mean_energy,sjf_mean_cost)\n",
    "\n",
    "#FWA\n",
    "fwa_mean_makespan/=10\n",
    "fwa_mean_energy/=10\n",
    "fwa_mean_cost/=10\n",
    "print(\"--FWA--\",fwa_mean_makespan,fwa_mean_energy,fwa_mean_cost)\n",
    "    \n",
    "#SQSA\n",
    "sqsa_mean_makespan/=10\n",
    "sqsa_mean_energy/=10\n",
    "sqsa_mean_cost/=10\n",
    "print(\"--SQSA--\",sqsa_mean_makespan,sqsa_mean_energy,sqsa_mean_cost)\n",
    "\n",
    "#BAT\n",
    "bat_mean_makespan/=10\n",
    "bat_mean_energy/=10\n",
    "bat_mean_cost/=10\n",
    "print(\"--BAT--\",bat_mean_makespan,bat_mean_energy,bat_mean_cost)\n",
    "    \n",
    "#PSO\n",
    "pso_mean_makespan/=10\n",
    "pso_mean_energy/=10\n",
    "pso_mean_cost/=10\n",
    "print(\"--PSO--\",pso_mean_makespan,pso_mean_energy,pso_mean_cost)\n",
    "\n",
    "#BMO\n",
    "bmo_mean_makespan/=10\n",
    "bmo_mean_energy/=10\n",
    "bmo_mean_cost/=10\n",
    "print(\"--BMO--\",bmo_mean_makespan,bmo_mean_energy,bmo_mean_cost)\n",
    "\n",
    "#SSA\n",
    "ssa_mean_makespan/=10\n",
    "ssa_mean_energy/=10\n",
    "ssa_mean_cost/=10\n",
    "print(\"--SSA--\",ssa_mean_makespan,ssa_mean_energy,ssa_mean_cost)"
   ]
  },
  {
   "cell_type": "code",
   "execution_count": null,
   "id": "2acf3331",
   "metadata": {},
   "outputs": [],
   "source": []
  }
 ],
 "metadata": {
  "kernelspec": {
   "display_name": "Python 3 (ipykernel)",
   "language": "python",
   "name": "python3"
  },
  "language_info": {
   "codemirror_mode": {
    "name": "ipython",
    "version": 3
   },
   "file_extension": ".py",
   "mimetype": "text/x-python",
   "name": "python",
   "nbconvert_exporter": "python",
   "pygments_lexer": "ipython3",
   "version": "3.9.12"
  }
 },
 "nbformat": 4,
 "nbformat_minor": 5
}
